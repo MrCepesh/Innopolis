{
  "nbformat": 4,
  "nbformat_minor": 0,
  "metadata": {
    "colab": {
      "name": "ДЗ 2.2.2 по Ирис.ipynb",
      "provenance": [],
      "authorship_tag": "ABX9TyPBYGglfbJ0xwuJmJEpuoRZ",
      "include_colab_link": true
    },
    "kernelspec": {
      "name": "python3",
      "display_name": "Python 3"
    },
    "language_info": {
      "name": "python"
    }
  },
  "cells": [
    {
      "cell_type": "markdown",
      "metadata": {
        "id": "view-in-github",
        "colab_type": "text"
      },
      "source": [
        "<a href=\"https://colab.research.google.com/github/MrCepesh/Innopolis/blob/main/%D0%94%D0%97_2_2_2_%D0%BF%D0%BE_%D0%98%D1%80%D0%B8%D1%81.ipynb\" target=\"_parent\"><img src=\"https://colab.research.google.com/assets/colab-badge.svg\" alt=\"Open In Colab\"/></a>"
      ]
    },
    {
      "cell_type": "code",
      "execution_count": 1,
      "metadata": {
        "id": "gh-Mh3mM3bt_"
      },
      "outputs": [],
      "source": [
        "import numpy as np"
      ]
    },
    {
      "cell_type": "markdown",
      "source": [
        "1)Загрузите датасет с помощью функции np.genfromtxt()"
      ],
      "metadata": {
        "id": "EAPHso9C3wXd"
      }
    },
    {
      "cell_type": "code",
      "source": [
        "url = 'https://archive.ics.uci.edu/ml/machine-learning-databases/iris/iris.data'\n",
        "iris = np.genfromtxt(url,dtype='object',delimiter=',')"
      ],
      "metadata": {
        "id": "I9eZxKzE33JH"
      },
      "execution_count": 3,
      "outputs": []
    },
    {
      "cell_type": "code",
      "source": [
        "iris.shape"
      ],
      "metadata": {
        "colab": {
          "base_uri": "https://localhost:8080/"
        },
        "id": "YxlrE3Jo4I9f",
        "outputId": "fcf7cba2-3da8-4765-ae31-d1eadb212159"
      },
      "execution_count": 4,
      "outputs": [
        {
          "output_type": "execute_result",
          "data": {
            "text/plain": [
              "(150, 5)"
            ]
          },
          "metadata": {},
          "execution_count": 4
        }
      ]
    },
    {
      "cell_type": "code",
      "source": [
        "iris[:10]"
      ],
      "metadata": {
        "colab": {
          "base_uri": "https://localhost:8080/"
        },
        "id": "6HnQMjR74Rlg",
        "outputId": "36fedc73-d223-4652-fcc3-7df5a27714f3"
      },
      "execution_count": 5,
      "outputs": [
        {
          "output_type": "execute_result",
          "data": {
            "text/plain": [
              "array([[b'5.1', b'3.5', b'1.4', b'0.2', b'Iris-setosa'],\n",
              "       [b'4.9', b'3.0', b'1.4', b'0.2', b'Iris-setosa'],\n",
              "       [b'4.7', b'3.2', b'1.3', b'0.2', b'Iris-setosa'],\n",
              "       [b'4.6', b'3.1', b'1.5', b'0.2', b'Iris-setosa'],\n",
              "       [b'5.0', b'3.6', b'1.4', b'0.2', b'Iris-setosa'],\n",
              "       [b'5.4', b'3.9', b'1.7', b'0.4', b'Iris-setosa'],\n",
              "       [b'4.6', b'3.4', b'1.4', b'0.3', b'Iris-setosa'],\n",
              "       [b'5.0', b'3.4', b'1.5', b'0.2', b'Iris-setosa'],\n",
              "       [b'4.4', b'2.9', b'1.4', b'0.2', b'Iris-setosa'],\n",
              "       [b'4.9', b'3.1', b'1.5', b'0.1', b'Iris-setosa']], dtype=object)"
            ]
          },
          "metadata": {},
          "execution_count": 5
        }
      ]
    },
    {
      "cell_type": "markdown",
      "source": [
        "2)Вычислите простейшие статистики: min, max, median, mean, 0.25-percentile,0.75-percentile для каждого из числовых атрибутов в датасете"
      ],
      "metadata": {
        "id": "ZbUNcxsm4lMQ"
      }
    },
    {
      "cell_type": "code",
      "source": [
        "atr1=np.genfromtxt(url,delimiter=',', dtype='float', usecols=0)\n",
        "atr2=np.genfromtxt(url,delimiter=',', dtype='float', usecols=1)\n",
        "atr3=np.genfromtxt(url,delimiter=',', dtype='float', usecols=2)\n",
        "atr4=np.genfromtxt(url,delimiter=',', dtype='float', usecols=3)\n",
        "atr5=np.genfromtxt(url,delimiter=',', dtype='str', usecols=4)"
      ],
      "metadata": {
        "id": "Tht7HDfC4nMJ"
      },
      "execution_count": 6,
      "outputs": []
    },
    {
      "cell_type": "code",
      "source": [
        "# Вычислим искомые значения для 1-го атрибута\n",
        "print(\"Среднее для atr1 = \", np.mean(atr1))\n",
        "print(\"Минимум для atr1 = \", np.min(atr1))\n",
        "print(\"Максимум для atr1 = \", np.max(atr1))\n",
        "print(\"Медиана для atr1 = \", np.median(atr1))\n",
        "print(\"Персентиль 0.25 для atr1 = \", np.percentile(atr1, 25))\n",
        "print(\"Персентиль 0.75 для atr1 = \", np.percentile(atr1, 75))"
      ],
      "metadata": {
        "colab": {
          "base_uri": "https://localhost:8080/"
        },
        "id": "YfUgTWXl5PSS",
        "outputId": "e956ef48-fc65-45ff-b7fd-9d8c3320c334"
      },
      "execution_count": 7,
      "outputs": [
        {
          "output_type": "stream",
          "name": "stdout",
          "text": [
            "Среднее для atr1 =  5.843333333333334\n",
            "Минимум для atr1 =  4.3\n",
            "Максимум для atr1 =  7.9\n",
            "Медиана для atr1 =  5.8\n",
            "Персентиль 0.25 для atr1 =  5.1\n",
            "Персентиль 0.75 для atr1 =  6.4\n"
          ]
        }
      ]
    },
    {
      "cell_type": "code",
      "source": [
        "# Вычислим искомые значения для 2-го атрибута\n",
        "print(\"Среднее для atr2 = \", np.mean(atr2))\n",
        "print(\"Минимум для atr2 = \", np.min(atr2))\n",
        "print(\"Максимум для atr2 = \", np.max(atr2))\n",
        "print(\"Медиана для atr2 = \", np.median(atr2))\n",
        "print(\"Персентиль 0.25 для atr2 = \", np.percentile(atr2, 25))\n",
        "print(\"Персентиль 0.75 для atr2 = \", np.percentile(atr2, 75))"
      ],
      "metadata": {
        "colab": {
          "base_uri": "https://localhost:8080/"
        },
        "id": "LG7GbvxA5y1P",
        "outputId": "95df5689-c822-41c6-dbda-ebea444a3b74"
      },
      "execution_count": 8,
      "outputs": [
        {
          "output_type": "stream",
          "name": "stdout",
          "text": [
            "Среднее для atr2 =  3.0540000000000003\n",
            "Минимум для atr2 =  2.0\n",
            "Максимум для atr2 =  4.4\n",
            "Медиана для atr2 =  3.0\n",
            "Персентиль 0.25 для atr2 =  2.8\n",
            "Персентиль 0.75 для atr2 =  3.3\n"
          ]
        }
      ]
    },
    {
      "cell_type": "code",
      "source": [
        "# Вычислим искомые значения для 3-го атрибута\n",
        "print(\"Среднее для atr3 = \", np.mean(atr3))\n",
        "print(\"Минимум для atr3 = \", np.min(atr3))\n",
        "print(\"Максимум для atr3 = \", np.max(atr3))\n",
        "print(\"Медиана для atr3 = \", np.median(atr3))\n",
        "print(\"Персентиль 0.25 для atr3 = \", np.percentile(atr3, 25))\n",
        "print(\"Персентиль 0.75 для atr3 = \", np.percentile(atr3, 75))"
      ],
      "metadata": {
        "colab": {
          "base_uri": "https://localhost:8080/"
        },
        "id": "0eyr9mBi6LEc",
        "outputId": "e4014aff-4e47-45d4-c79a-5b616be67ba2"
      },
      "execution_count": 9,
      "outputs": [
        {
          "output_type": "stream",
          "name": "stdout",
          "text": [
            "Среднее для atr3 =  3.758666666666666\n",
            "Минимум для atr3 =  1.0\n",
            "Максимум для atr3 =  6.9\n",
            "Медиана для atr3 =  4.35\n",
            "Персентиль 0.25 для atr3 =  1.6\n",
            "Персентиль 0.75 для atr3 =  5.1\n"
          ]
        }
      ]
    },
    {
      "cell_type": "code",
      "source": [
        "# Вычислим искомые значения для 4-го атрибута\n",
        "print(\"Среднее для atr4 = \", np.mean(atr4))\n",
        "print(\"Минимум для atr4 = \", np.min(atr4))\n",
        "print(\"Максимум для atr4 = \", np.max(atr4))\n",
        "print(\"Медиана для atr4 = \", np.median(atr4))\n",
        "print(\"Персентиль 0.25 для atr4 = \", np.percentile(atr4, 25))\n",
        "print(\"Персентиль 0.75 для atr4 = \", np.percentile(atr4, 75))"
      ],
      "metadata": {
        "colab": {
          "base_uri": "https://localhost:8080/"
        },
        "id": "xvW3NGSu6jHQ",
        "outputId": "1809e1d0-44e0-4741-fdf0-b4bdf78ba734"
      },
      "execution_count": 10,
      "outputs": [
        {
          "output_type": "stream",
          "name": "stdout",
          "text": [
            "Среднее для atr4 =  1.1986666666666668\n",
            "Минимум для atr4 =  0.1\n",
            "Максимум для atr4 =  2.5\n",
            "Медиана для atr4 =  1.3\n",
            "Персентиль 0.25 для atr4 =  0.3\n",
            "Персентиль 0.75 для atr4 =  1.8\n"
          ]
        }
      ]
    },
    {
      "cell_type": "markdown",
      "source": [
        "3)Постройте гистограмму для каждого из числовых атрибутов в датасете"
      ],
      "metadata": {
        "id": "egLirSXf8vot"
      }
    },
    {
      "cell_type": "code",
      "source": [
        "import matplotlib.pyplot as plt"
      ],
      "metadata": {
        "id": "g9FEjPCb8xLI"
      },
      "execution_count": 12,
      "outputs": []
    },
    {
      "cell_type": "code",
      "source": [
        "plt.hist(atr1)\n",
        "plt.title('Гистограмма для атрибута atr1')\n",
        "plt.show()"
      ],
      "metadata": {
        "colab": {
          "base_uri": "https://localhost:8080/",
          "height": 281
        },
        "id": "ilhtneiu9LP-",
        "outputId": "44bf5882-0869-488f-e01a-7054d94520e4"
      },
      "execution_count": 13,
      "outputs": [
        {
          "output_type": "display_data",
          "data": {
            "image/png": "[encoded data removed]",
            "text/plain": [
              "<Figure size 432x288 with 1 Axes>"
            ]
          },
          "metadata": {
            "needs_background": "light"
          }
        }
      ]
    },
    {
      "cell_type": "code",
      "source": [
        "plt.hist(atr2)\n",
        "plt.title('Гистограмма для атрибута atr2')\n",
        "plt.show()"
      ],
      "metadata": {
        "colab": {
          "base_uri": "https://localhost:8080/",
          "height": 281
        },
        "id": "1RHQ9IiL9kFR",
        "outputId": "ee9c76e4-8850-4250-85b5-be75a771a996"
      },
      "execution_count": 16,
      "outputs": [
        {
          "output_type": "display_data",
          "data": {
            "image/png": "[encoded data removed]",
            "text/plain": [
              "<Figure size 432x288 with 1 Axes>"
            ]
          },
          "metadata": {
            "needs_background": "light"
          }
        }
      ]
    },
    {
      "cell_type": "code",
      "source": [
        "plt.hist(atr3)\n",
        "plt.title('Гистограмма для атрибута atr3')\n",
        "plt.show()"
      ],
      "metadata": {
        "colab": {
          "base_uri": "https://localhost:8080/",
          "height": 281
        },
        "id": "vgZdgaU19ogi",
        "outputId": "cc2017cf-ff1d-49c5-ffd7-3a5e9d59d572"
      },
      "execution_count": 17,
      "outputs": [
        {
          "output_type": "display_data",
          "data": {
            "image/png": "[encoded data removed]",
            "text/plain": [
              "<Figure size 432x288 with 1 Axes>"
            ]
          },
          "metadata": {
            "needs_background": "light"
          }
        }
      ]
    },
    {
      "cell_type": "code",
      "source": [
        "plt.hist(atr4)\n",
        "plt.title('Гистограмма для атрибута atr4')\n",
        "plt.show()"
      ],
      "metadata": {
        "colab": {
          "base_uri": "https://localhost:8080/",
          "height": 281
        },
        "id": "T942urdZ9y8x",
        "outputId": "768a1d27-4627-47bd-ae18-ccfd66c6d05a"
      },
      "execution_count": 18,
      "outputs": [
        {
          "output_type": "display_data",
          "data": {
            "image/png": "[encoded data removed]",
            "text/plain": [
              "<Figure size 432x288 with 1 Axes>"
            ]
          },
          "metadata": {
            "needs_background": "light"
          }
        }
      ]
    },
    {
      "cell_type": "code",
      "source": [
        "# Разместим все гистограммы на 1 листе\n",
        "fig, ((g1, g2), (g3, g4)) = plt.subplots(nrows=2, ncols=2)\n",
        "\n",
        "g1.hist(atr1)\n",
        "g1.set_title('Гистограмма 1 атрибута')\n",
        "\n",
        "g2.hist(atr2)\n",
        "g2.set_title('Гистограмма 2 атрибута')\n",
        "\n",
        "g3.hist(atr3)\n",
        "g3.set_title('Гистограмма 3 атрибута')\n",
        "\n",
        "g4.hist(atr4)\n",
        "g4.set_title('Гистограмма 4 атрибута')\n",
        "\n",
        "fig.tight_layout()\n",
        "plt.show()"
      ],
      "metadata": {
        "colab": {
          "base_uri": "https://localhost:8080/",
          "height": 297
        },
        "id": "0A5aGeuQ-KFa",
        "outputId": "f807e553-3bae-4cc0-a540-5be950b7375f"
      },
      "execution_count": 19,
      "outputs": [
        {
          "output_type": "display_data",
          "data": {
            "image/png": "[encoded data removed]",
            "text/plain": [
              "<Figure size 432x288 with 4 Axes>"
            ]
          },
          "metadata": {
            "needs_background": "light"
          }
        }
      ]
    },
    {
      "cell_type": "markdown",
      "source": [
        "4) Сгруппируйте датасет по категории (последний столбец датасета) и повторите шаги 2 и 3 для групп."
      ],
      "metadata": {
        "id": "4vcL4hlJ-34A"
      }
    },
    {
      "cell_type": "code",
      "source": [
        "iris_unique= np.unique(iris[:,4])\n",
        "\n",
        "for i in range(len(iris_unique)):\n",
        "    iris_atr = iris[np.where(iris[:,4] == iris_unique[i])]\n",
        "    for j in range(4):\n",
        "        min_atr = round(np.min((iris_atr[:, j].astype('float')), axis = 0),2)\n",
        "        max_atr = round(np.max((iris_atr[:, j].astype('float')), axis = 0),2)\n",
        "        med_atr = round(np.median((iris_atr[:, j].astype('float')), axis = 0),2)\n",
        "        mean_atr = round(np.mean((iris_atr[:, j].astype('float')), axis = 0),2)\n",
        "        perc25_atr = round(np.percentile((iris_atr[:, j].astype('float')), 25, axis = 0),2)\n",
        "        perc75_atr = round(np.percentile((iris_atr[:, j].astype('float')), 75, axis = 0),2)\n",
        "        print(f'Минимум для атрибута {j} = ', min_atr)\n",
        "        print(f'Максимум для атрибута {j} = ', max_atr)\n",
        "        print(f'Медиан для атрибута {j} = ', med_atr)\n",
        "        print(f'Среднее для атрибута {j} = ', mean_atr)\n",
        "        print(f'0,25 персентиль для {j} = ', perc25_atr)\n",
        "        print(f'0,75 персентиль для {j} = ', perc75_atr)\n",
        "        plt.hist((iris_atr[:, j].astype('float')))\n",
        "        plt.title(f'Гистограмма для атрибута {j}')\n",
        "        plt.show()\n",
        "        print ('\\n')"
      ],
      "metadata": {
        "colab": {
          "base_uri": "https://localhost:8080/",
          "height": 1000
        },
        "id": "vmrdWx2jBTZM",
        "outputId": "126e5649-de09-49ac-fd7f-bd5879002da6"
      },
      "execution_count": 22,
      "outputs": [
        {
          "output_type": "stream",
          "name": "stdout",
          "text": [
            "Минимум для атрибута 0 =  4.3\n",
            "Максимум для атрибута 0 =  5.8\n",
            "Медиан для атрибута 0 =  5.0\n",
            "Среднее для атрибута 0 =  5.01\n",
            "0,25 персентиль для 0 =  4.8\n",
            "0,75 персентиль для 0 =  5.2\n"
          ]
        },
        {
          "output_type": "display_data",
          "data": {
            "image/png": "[encoded data removed]",
            "text/plain": [
              "<Figure size 432x288 with 1 Axes>"
            ]
          },
          "metadata": {
            "needs_background": "light"
          }
        },
        {
          "output_type": "stream",
          "name": "stdout",
          "text": [
            "\n",
            "\n",
            "Минимум для атрибута 1 =  2.3\n",
            "Максимум для атрибута 1 =  4.4\n",
            "Медиан для атрибута 1 =  3.4\n",
            "Среднее для атрибута 1 =  3.42\n",
            "0,25 персентиль для 1 =  3.12\n",
            "0,75 персентиль для 1 =  3.68\n"
          ]
        },
        {
          "output_type": "display_data",
          "data": {
            "image/png": "[encoded data removed]",
            "text/plain": [
              "<Figure size 432x288 with 1 Axes>"
            ]
          },
          "metadata": {
            "needs_background": "light"
          }
        },
        {
          "output_type": "stream",
          "name": "stdout",
          "text": [
            "\n",
            "\n",
            "Минимум для атрибута 2 =  1.0\n",
            "Максимум для атрибута 2 =  1.9\n",
            "Медиан для атрибута 2 =  1.5\n",
            "Среднее для атрибута 2 =  1.46\n",
            "0,25 персентиль для 2 =  1.4\n",
            "0,75 персентиль для 2 =  1.58\n"
          ]
        },
        {
          "output_type": "display_data",
          "data": {
            "image/png": "[encoded data removed]",
            "text/plain": [
              "<Figure size 432x288 with 1 Axes>"
            ]
          },
          "metadata": {
            "needs_background": "light"
          }
        },
        {
          "output_type": "stream",
          "name": "stdout",
          "text": [
            "\n",
            "\n",
            "Минимум для атрибута 3 =  0.1\n",
            "Максимум для атрибута 3 =  0.6\n",
            "Медиан для атрибута 3 =  0.2\n",
            "Среднее для атрибута 3 =  0.24\n",
            "0,25 персентиль для 3 =  0.2\n",
            "0,75 персентиль для 3 =  0.3\n"
          ]
        },
        {
          "output_type": "display_data",
          "data": {
            "image/png": "[encoded data removed]",
            "text/plain": [
              "<Figure size 432x288 with 1 Axes>"
            ]
          },
          "metadata": {
            "needs_background": "light"
          }
        },
        {
          "output_type": "stream",
          "name": "stdout",
          "text": [
            "\n",
            "\n",
            "Минимум для атрибута 0 =  4.9\n",
            "Максимум для атрибута 0 =  7.0\n",
            "Медиан для атрибута 0 =  5.9\n",
            "Среднее для атрибута 0 =  5.94\n",
            "0,25 персентиль для 0 =  5.6\n",
            "0,75 персентиль для 0 =  6.3\n"
          ]
        },
        {
          "output_type": "display_data",
          "data": {
            "image/png": "[encoded data removed]",
            "text/plain": [
              "<Figure size 432x288 with 1 Axes>"
            ]
          },
          "metadata": {
            "needs_background": "light"
          }
        },
        {
          "output_type": "stream",
          "name": "stdout",
          "text": [
            "\n",
            "\n",
            "Минимум для атрибута 1 =  2.0\n",
            "Максимум для атрибута 1 =  3.4\n",
            "Медиан для атрибута 1 =  2.8\n",
            "Среднее для атрибута 1 =  2.77\n",
            "0,25 персентиль для 1 =  2.52\n",
            "0,75 персентиль для 1 =  3.0\n"
          ]
        },
        {
          "output_type": "display_data",
          "data": {
            "image/png": "[encoded data removed]",
            "text/plain": [
              "<Figure size 432x288 with 1 Axes>"
            ]
          },
          "metadata": {
            "needs_background": "light"
          }
        },
        {
          "output_type": "stream",
          "name": "stdout",
          "text": [
            "\n",
            "\n",
            "Минимум для атрибута 2 =  3.0\n",
            "Максимум для атрибута 2 =  5.1\n",
            "Медиан для атрибута 2 =  4.35\n",
            "Среднее для атрибута 2 =  4.26\n",
            "0,25 персентиль для 2 =  4.0\n",
            "0,75 персентиль для 2 =  4.6\n"
          ]
        },
        {
          "output_type": "display_data",
          "data": {
            "image/png": "[encoded data removed]",
            "text/plain": [
              "<Figure size 432x288 with 1 Axes>"
            ]
          },
          "metadata": {
            "needs_background": "light"
          }
        },
        {
          "output_type": "stream",
          "name": "stdout",
          "text": [
            "\n",
            "\n",
            "Минимум для атрибута 3 =  1.0\n",
            "Максимум для атрибута 3 =  1.8\n",
            "Медиан для атрибута 3 =  1.3\n",
            "Среднее для атрибута 3 =  1.33\n",
            "0,25 персентиль для 3 =  1.2\n",
            "0,75 персентиль для 3 =  1.5\n"
          ]
        },
        {
          "output_type": "display_data",
          "data": {
            "image/png": "[encoded data removed]",
            "text/plain": [
              "<Figure size 432x288 with 1 Axes>"
            ]
          },
          "metadata": {
            "needs_background": "light"
          }
        },
        {
          "output_type": "stream",
          "name": "stdout",
          "text": [
            "\n",
            "\n",
            "Минимум для атрибута 0 =  4.9\n",
            "Максимум для атрибута 0 =  7.9\n",
            "Медиан для атрибута 0 =  6.5\n",
            "Среднее для атрибута 0 =  6.59\n",
            "0,25 персентиль для 0 =  6.22\n",
            "0,75 персентиль для 0 =  6.9\n"
          ]
        },
        {
          "output_type": "display_data",
          "data": {
            "image/png": "[encoded data removed]",
            "text/plain": [
              "<Figure size 432x288 with 1 Axes>"
            ]
          },
          "metadata": {
            "needs_background": "light"
          }
        },
        {
          "output_type": "stream",
          "name": "stdout",
          "text": [
            "\n",
            "\n",
            "Минимум для атрибута 1 =  2.2\n",
            "Максимум для атрибута 1 =  3.8\n",
            "Медиан для атрибута 1 =  3.0\n",
            "Среднее для атрибута 1 =  2.97\n",
            "0,25 персентиль для 1 =  2.8\n",
            "0,75 персентиль для 1 =  3.18\n"
          ]
        },
        {
          "output_type": "display_data",
          "data": {
            "image/png": "[encoded data removed]",
            "text/plain": [
              "<Figure size 432x288 with 1 Axes>"
            ]
          },
          "metadata": {
            "needs_background": "light"
          }
        },
        {
          "output_type": "stream",
          "name": "stdout",
          "text": [
            "\n",
            "\n",
            "Минимум для атрибута 2 =  4.5\n",
            "Максимум для атрибута 2 =  6.9\n",
            "Медиан для атрибута 2 =  5.55\n",
            "Среднее для атрибута 2 =  5.55\n",
            "0,25 персентиль для 2 =  5.1\n",
            "0,75 персентиль для 2 =  5.88\n"
          ]
        },
        {
          "output_type": "display_data",
          "data": {
            "image/png": "[encoded data removed]",
            "text/plain": [
              "<Figure size 432x288 with 1 Axes>"
            ]
          },
          "metadata": {
            "needs_background": "light"
          }
        },
        {
          "output_type": "stream",
          "name": "stdout",
          "text": [
            "\n",
            "\n",
            "Минимум для атрибута 3 =  1.4\n",
            "Максимум для атрибута 3 =  2.5\n",
            "Медиан для атрибута 3 =  2.0\n",
            "Среднее для атрибута 3 =  2.03\n",
            "0,25 персентиль для 3 =  1.8\n",
            "0,75 персентиль для 3 =  2.3\n"
          ]
        },
        {
          "output_type": "display_data",
          "data": {
            "image/png": "[encoded data removed]",
            "text/plain": [
              "<Figure size 432x288 with 1 Axes>"
            ]
          },
          "metadata": {
            "needs_background": "light"
          }
        },
        {
          "output_type": "stream",
          "name": "stdout",
          "text": [
            "\n",
            "\n"
          ]
        }
      ]
    }
  ]
}