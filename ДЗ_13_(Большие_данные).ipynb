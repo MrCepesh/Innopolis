{
  "nbformat": 4,
  "nbformat_minor": 0,
  "metadata": {
    "colab": {
      "name": "ДЗ 13 (Большие данные).ipynb",
      "provenance": [],
      "authorship_tag": "ABX9TyNEazj17/eQZ+51xjHpMCzD",
      "include_colab_link": true
    },
    "kernelspec": {
      "name": "python3",
      "display_name": "Python 3"
    },
    "language_info": {
      "name": "python"
    }
  },
  "cells": [
    {
      "cell_type": "markdown",
      "metadata": {
        "id": "view-in-github",
        "colab_type": "text"
      },
      "source": [
        "<a href=\"https://colab.research.google.com/github/MrCepesh/Innopolis/blob/main/%D0%94%D0%97_13_(%D0%91%D0%BE%D0%BB%D1%8C%D1%88%D0%B8%D0%B5_%D0%B4%D0%B0%D0%BD%D0%BD%D1%8B%D0%B5).ipynb\" target=\"_parent\"><img src=\"https://colab.research.google.com/assets/colab-badge.svg\" alt=\"Open In Colab\"/></a>"
      ]
    },
    {
      "cell_type": "code",
      "execution_count": null,
      "metadata": {
        "id": "L0al_LqNBXxW"
      },
      "outputs": [],
      "source": [
        ""
      ]
    },
    {
      "cell_type": "markdown",
      "source": [
        "**Задание. Обучите модель классификации для цветков Iris'а**                "
      ],
      "metadata": {
        "id": "c7i8r-xVBkKL"
      }
    },
    {
      "cell_type": "markdown",
      "source": [
        "1.Взять данные iris.csv"
      ],
      "metadata": {
        "id": "NdmbZGDtB8xf"
      }
    },
    {
      "cell_type": "code",
      "source": [
        "!pip install pyspark"
      ],
      "metadata": {
        "colab": {
          "base_uri": "https://localhost:8080/"
        },
        "id": "xt7qL05hCLOA",
        "outputId": "cb0f6fd0-e594-4235-ca97-f71fb4d567d7"
      },
      "execution_count": 1,
      "outputs": [
        {
          "output_type": "stream",
          "name": "stdout",
          "text": [
            "Collecting pyspark\n",
            "  Downloading pyspark-3.2.1.tar.gz (281.4 MB)\n",
            "\u001b[K     |████████████████████████████████| 281.4 MB 35 kB/s \n",
            "\u001b[?25hCollecting py4j==0.10.9.3\n",
            "  Downloading py4j-0.10.9.3-py2.py3-none-any.whl (198 kB)\n",
            "\u001b[K     |████████████████████████████████| 198 kB 43.3 MB/s \n",
            "\u001b[?25hBuilding wheels for collected packages: pyspark\n",
            "  Building wheel for pyspark (setup.py) ... \u001b[?25l\u001b[?25hdone\n",
            "  Created wheel for pyspark: filename=pyspark-3.2.1-py2.py3-none-any.whl size=281853642 sha256=2e2952639358eaacb745a1fa1a23b6fd2e9f375e1165961f2d47c9399d9e76f2\n",
            "  Stored in directory: /root/.cache/pip/wheels/9f/f5/07/7cd8017084dce4e93e84e92efd1e1d5334db05f2e83bcef74f\n",
            "Successfully built pyspark\n",
            "Installing collected packages: py4j, pyspark\n",
            "Successfully installed py4j-0.10.9.3 pyspark-3.2.1\n"
          ]
        }
      ]
    },
    {
      "cell_type": "code",
      "source": [
        "import pandas as pd\n",
        "import numpy as np\n",
        "from pyspark.sql.functions import *\n",
        "from pyspark.sql.types import DoubleType, IntegerType, DateType\n",
        "from pyspark.ml.feature import StringIndexer\n",
        "from pyspark.ml import Pipeline\n",
        "from pyspark.ml.feature import VectorAssembler\n",
        "from pyspark.ml.classification import LogisticRegression\n",
        "from pyspark.ml.evaluation import MulticlassClassificationEvaluator"
      ],
      "metadata": {
        "id": "Tbdtixs_EWlt"
      },
      "execution_count": 2,
      "outputs": []
    },
    {
      "cell_type": "code",
      "source": [
        "from pyspark.context import SparkContext\n",
        "from pyspark.sql.session import SparkSession #to define a SparkSession\n",
        "\n",
        "sc = SparkContext('local') #spark_connection\n",
        "spark = SparkSession(sc) # open spark session"
      ],
      "metadata": {
        "id": "ATtiouRmEkjx"
      },
      "execution_count": 3,
      "outputs": []
    },
    {
      "cell_type": "markdown",
      "source": [
        "2. Преобразуем в pyspark"
      ],
      "metadata": {
        "id": "4zee6jVZJNma"
      }
    },
    {
      "cell_type": "code",
      "source": [
        "# Загрузим фаил с компьютера для работы в колаб\n",
        "from google.colab import files\n",
        "uploaded = files.upload()"
      ],
      "metadata": {
        "colab": {
          "resources": {
            "http://localhost:8080/nbextensions/google.colab/files.js": {
              "data": "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",
              "ok": true,
              "headers": [
                [
                  "content-type",
                  "application/javascript"
                ]
              ],
              "status": 200,
              "status_text": ""
            }
          },
          "base_uri": "https://localhost:8080/",
          "height": 72
        },
        "id": "hiceai9JG-On",
        "outputId": "21e15d41-330c-4739-c469-7e61c1ba3757"
      },
      "execution_count": 4,
      "outputs": [
        {
          "output_type": "display_data",
          "data": {
            "text/plain": [
              "<IPython.core.display.HTML object>"
            ],
            "text/html": [
              "\n",
              "     <input type=\"file\" id=\"files-ed7c3a05-5218-4e15-b626-25ce22e90a89\" name=\"files[]\" multiple disabled\n",
              "        style=\"border:none\" />\n",
              "     <output id=\"result-ed7c3a05-5218-4e15-b626-25ce22e90a89\">\n",
              "      Upload widget is only available when the cell has been executed in the\n",
              "      current browser session. Please rerun this cell to enable.\n",
              "      </output>\n",
              "      <script src=\"/nbextensions/google.colab/files.js\"></script> "
            ]
          },
          "metadata": {}
        },
        {
          "output_type": "stream",
          "name": "stdout",
          "text": [
            "Saving iris.csv to iris.csv\n"
          ]
        }
      ]
    },
    {
      "cell_type": "code",
      "source": [
        "# Используем options() чтобы задать несколько опций:\n",
        "# header=True - Для чтения использует первую строку в качестве имен столбцов\n",
        "# sep=\",\" - Устанавливает разделитель для каждого поля и значения\n",
        "# quote=\"\" - Нужно установить пустую строку для отключения кавычки, тк quote по-умолчанию \", тк ковычки не являются разделителем\n",
        "df = spark.read.format(\"com.databricks.spark.csv\").options(sep=\",\", header=True, quote=\"\").csv('iris.csv')"
      ],
      "metadata": {
        "id": "BMTWzM7eHoNV"
      },
      "execution_count": 5,
      "outputs": []
    },
    {
      "cell_type": "code",
      "source": [
        "df.show(10) # Узнаем какие данные храняться в фаиле\n",
        "df.printSchema()"
      ],
      "metadata": {
        "colab": {
          "base_uri": "https://localhost:8080/"
        },
        "id": "zp-fRKUUHyzx",
        "outputId": "0f3b2c83-9af4-4777-ee25-4e12334272bd"
      },
      "execution_count": 6,
      "outputs": [
        {
          "output_type": "stream",
          "name": "stdout",
          "text": [
            "+-------------+---------------+----------------+---------------+------------+\n",
            "|\"sepal.length|\"\"sepal.width\"\"|\"\"petal.length\"\"|\"\"petal.width\"\"|\"\"variety\"\"\"|\n",
            "+-------------+---------------+----------------+---------------+------------+\n",
            "|         \"5.1|            3.5|             1.4|             .2| \"\"Setosa\"\"\"|\n",
            "|         \"4.9|              3|             1.4|             .2| \"\"Setosa\"\"\"|\n",
            "|         \"4.7|            3.2|             1.3|             .2| \"\"Setosa\"\"\"|\n",
            "|         \"4.6|            3.1|             1.5|             .2| \"\"Setosa\"\"\"|\n",
            "|           \"5|            3.6|             1.4|             .2| \"\"Setosa\"\"\"|\n",
            "|         \"5.4|            3.9|             1.7|             .4| \"\"Setosa\"\"\"|\n",
            "|         \"4.6|            3.4|             1.4|             .3| \"\"Setosa\"\"\"|\n",
            "|           \"5|            3.4|             1.5|             .2| \"\"Setosa\"\"\"|\n",
            "|         \"4.4|            2.9|             1.4|             .2| \"\"Setosa\"\"\"|\n",
            "|         \"4.9|            3.1|             1.5|             .1| \"\"Setosa\"\"\"|\n",
            "+-------------+---------------+----------------+---------------+------------+\n",
            "only showing top 10 rows\n",
            "\n",
            "root\n",
            " |-- \"sepal.length: string (nullable = true)\n",
            " |-- \"\"sepal.width\"\": string (nullable = true)\n",
            " |-- \"\"petal.length\"\": string (nullable = true)\n",
            " |-- \"\"petal.width\"\": string (nullable = true)\n",
            " |-- \"\"variety\"\"\": string (nullable = true)\n",
            "\n"
          ]
        }
      ]
    },
    {
      "cell_type": "code",
      "source": [
        "# преобразуем названия колонок\n",
        "newColumns = [\"sepal_length\",\"sepal_width\",\"petal_length\",\"petal_width\",\"variety\"]\n",
        "df_new = df.toDF(*newColumns)\n",
        "\n",
        "# удалим лишние кавычки\n",
        "df_new = df_new.withColumn(\"sepal_length\", regexp_replace(col(\"sepal_length\"), '\"', \"\"))\\\n",
        "    .withColumn(\"variety\", regexp_replace(col(\"variety\"), '\"', \"\"))\n",
        "\n",
        "# преобразуем в тип данных Double\n",
        "df_new = df_new \\\n",
        "    .withColumn('sepal_length', col('sepal_length').cast(DoubleType())) \\\n",
        "    .withColumn('sepal_width', col('sepal_width').cast(DoubleType())) \\\n",
        "    .withColumn('petal_length', col('petal_length').cast(DoubleType())) \\\n",
        "    .withColumn('petal_width', col('petal_width').cast(DoubleType()))"
      ],
      "metadata": {
        "id": "Scb7qU-PII1s"
      },
      "execution_count": 7,
      "outputs": []
    },
    {
      "cell_type": "code",
      "source": [
        "# посмотрим на итог преобразований\n",
        "df_new.show(10)\n",
        "df_new.printSchema()"
      ],
      "metadata": {
        "colab": {
          "base_uri": "https://localhost:8080/"
        },
        "id": "HUx7E03rIm9S",
        "outputId": "f46b00f6-5fc0-43ea-d39c-fb792770653b"
      },
      "execution_count": 9,
      "outputs": [
        {
          "output_type": "stream",
          "name": "stdout",
          "text": [
            "+------------+-----------+------------+-----------+-------+\n",
            "|sepal_length|sepal_width|petal_length|petal_width|variety|\n",
            "+------------+-----------+------------+-----------+-------+\n",
            "|         5.1|        3.5|         1.4|        0.2| Setosa|\n",
            "|         4.9|        3.0|         1.4|        0.2| Setosa|\n",
            "|         4.7|        3.2|         1.3|        0.2| Setosa|\n",
            "|         4.6|        3.1|         1.5|        0.2| Setosa|\n",
            "|         5.0|        3.6|         1.4|        0.2| Setosa|\n",
            "|         5.4|        3.9|         1.7|        0.4| Setosa|\n",
            "|         4.6|        3.4|         1.4|        0.3| Setosa|\n",
            "|         5.0|        3.4|         1.5|        0.2| Setosa|\n",
            "|         4.4|        2.9|         1.4|        0.2| Setosa|\n",
            "|         4.9|        3.1|         1.5|        0.1| Setosa|\n",
            "+------------+-----------+------------+-----------+-------+\n",
            "only showing top 10 rows\n",
            "\n",
            "root\n",
            " |-- sepal_length: double (nullable = true)\n",
            " |-- sepal_width: double (nullable = true)\n",
            " |-- petal_length: double (nullable = true)\n",
            " |-- petal_width: double (nullable = true)\n",
            " |-- variety: string (nullable = true)\n",
            "\n"
          ]
        }
      ]
    },
    {
      "cell_type": "code",
      "source": [
        "df_new.summary().show() # вычислим основные мат.значения наших данных"
      ],
      "metadata": {
        "colab": {
          "base_uri": "https://localhost:8080/"
        },
        "id": "dPylfKXfI_d_",
        "outputId": "943d1da1-615a-4cd3-c9f1-d6769350cfaf"
      },
      "execution_count": 10,
      "outputs": [
        {
          "output_type": "stream",
          "name": "stdout",
          "text": [
            "+-------+------------------+-------------------+------------------+------------------+---------+\n",
            "|summary|      sepal_length|        sepal_width|      petal_length|       petal_width|  variety|\n",
            "+-------+------------------+-------------------+------------------+------------------+---------+\n",
            "|  count|               150|                150|               150|               150|      150|\n",
            "|   mean| 5.843333333333335|  3.057333333333334|3.7580000000000027| 1.199333333333334|     null|\n",
            "| stddev|0.8280661279778637|0.43586628493669793|1.7652982332594662|0.7622376689603467|     null|\n",
            "|    min|               4.3|                2.0|               1.0|               0.1|   Setosa|\n",
            "|    25%|               5.1|                2.8|               1.6|               0.3|     null|\n",
            "|    50%|               5.8|                3.0|               4.3|               1.3|     null|\n",
            "|    75%|               6.4|                3.3|               5.1|               1.8|     null|\n",
            "|    max|               7.9|                4.4|               6.9|               2.5|Virginica|\n",
            "+-------+------------------+-------------------+------------------+------------------+---------+\n",
            "\n"
          ]
        }
      ]
    },
    {
      "cell_type": "markdown",
      "source": [
        "3.При помощи VectorAssemblerпреобразовать все колонки с признаками в одну (использовать PipeLine)"
      ],
      "metadata": {
        "id": "zc9F68F1JjS7"
      }
    },
    {
      "cell_type": "code",
      "source": [
        "pipeline = Pipeline(stages = \n",
        "[StringIndexer(inputCol='variety', outputCol='varietyInd'), # переведем строковый формат в числовой для работы с данными\n",
        "  VectorAssembler(inputCols=[\"sepal_length\", \"sepal_width\", \"petal_length\", \"petal_width\"], outputCol='Features')])"
      ],
      "metadata": {
        "id": "aKY5XIsdJz4j"
      },
      "execution_count": 11,
      "outputs": []
    },
    {
      "cell_type": "code",
      "source": [
        "pipelineTrained = pipeline.fit(df_new) # подгоняем через заданный pipeline наш датасет\n",
        "pipelineTrained.transform(df_new).show() # преобразуем признаки в вектор через функцию transform"
      ],
      "metadata": {
        "colab": {
          "base_uri": "https://localhost:8080/"
        },
        "id": "J68-79jDL6x_",
        "outputId": "b18f1055-1b82-457e-8a89-db1628042e5c"
      },
      "execution_count": 12,
      "outputs": [
        {
          "output_type": "stream",
          "name": "stdout",
          "text": [
            "+------------+-----------+------------+-----------+-------+----------+-----------------+\n",
            "|sepal_length|sepal_width|petal_length|petal_width|variety|varietyInd|         Features|\n",
            "+------------+-----------+------------+-----------+-------+----------+-----------------+\n",
            "|         5.1|        3.5|         1.4|        0.2| Setosa|       0.0|[5.1,3.5,1.4,0.2]|\n",
            "|         4.9|        3.0|         1.4|        0.2| Setosa|       0.0|[4.9,3.0,1.4,0.2]|\n",
            "|         4.7|        3.2|         1.3|        0.2| Setosa|       0.0|[4.7,3.2,1.3,0.2]|\n",
            "|         4.6|        3.1|         1.5|        0.2| Setosa|       0.0|[4.6,3.1,1.5,0.2]|\n",
            "|         5.0|        3.6|         1.4|        0.2| Setosa|       0.0|[5.0,3.6,1.4,0.2]|\n",
            "|         5.4|        3.9|         1.7|        0.4| Setosa|       0.0|[5.4,3.9,1.7,0.4]|\n",
            "|         4.6|        3.4|         1.4|        0.3| Setosa|       0.0|[4.6,3.4,1.4,0.3]|\n",
            "|         5.0|        3.4|         1.5|        0.2| Setosa|       0.0|[5.0,3.4,1.5,0.2]|\n",
            "|         4.4|        2.9|         1.4|        0.2| Setosa|       0.0|[4.4,2.9,1.4,0.2]|\n",
            "|         4.9|        3.1|         1.5|        0.1| Setosa|       0.0|[4.9,3.1,1.5,0.1]|\n",
            "|         5.4|        3.7|         1.5|        0.2| Setosa|       0.0|[5.4,3.7,1.5,0.2]|\n",
            "|         4.8|        3.4|         1.6|        0.2| Setosa|       0.0|[4.8,3.4,1.6,0.2]|\n",
            "|         4.8|        3.0|         1.4|        0.1| Setosa|       0.0|[4.8,3.0,1.4,0.1]|\n",
            "|         4.3|        3.0|         1.1|        0.1| Setosa|       0.0|[4.3,3.0,1.1,0.1]|\n",
            "|         5.8|        4.0|         1.2|        0.2| Setosa|       0.0|[5.8,4.0,1.2,0.2]|\n",
            "|         5.7|        4.4|         1.5|        0.4| Setosa|       0.0|[5.7,4.4,1.5,0.4]|\n",
            "|         5.4|        3.9|         1.3|        0.4| Setosa|       0.0|[5.4,3.9,1.3,0.4]|\n",
            "|         5.1|        3.5|         1.4|        0.3| Setosa|       0.0|[5.1,3.5,1.4,0.3]|\n",
            "|         5.7|        3.8|         1.7|        0.3| Setosa|       0.0|[5.7,3.8,1.7,0.3]|\n",
            "|         5.1|        3.8|         1.5|        0.3| Setosa|       0.0|[5.1,3.8,1.5,0.3]|\n",
            "+------------+-----------+------------+-----------+-------+----------+-----------------+\n",
            "only showing top 20 rows\n",
            "\n"
          ]
        }
      ]
    },
    {
      "cell_type": "code",
      "source": [
        "df_features = pipelineTrained.transform(df_new) # создаем новый датафрейм с признаком Features\n",
        "df_features.show()"
      ],
      "metadata": {
        "colab": {
          "base_uri": "https://localhost:8080/"
        },
        "id": "n6_VlXgKMiar",
        "outputId": "1ff29f29-d73f-4d97-8846-d046b6163323"
      },
      "execution_count": 13,
      "outputs": [
        {
          "output_type": "stream",
          "name": "stdout",
          "text": [
            "+------------+-----------+------------+-----------+-------+----------+-----------------+\n",
            "|sepal_length|sepal_width|petal_length|petal_width|variety|varietyInd|         Features|\n",
            "+------------+-----------+------------+-----------+-------+----------+-----------------+\n",
            "|         5.1|        3.5|         1.4|        0.2| Setosa|       0.0|[5.1,3.5,1.4,0.2]|\n",
            "|         4.9|        3.0|         1.4|        0.2| Setosa|       0.0|[4.9,3.0,1.4,0.2]|\n",
            "|         4.7|        3.2|         1.3|        0.2| Setosa|       0.0|[4.7,3.2,1.3,0.2]|\n",
            "|         4.6|        3.1|         1.5|        0.2| Setosa|       0.0|[4.6,3.1,1.5,0.2]|\n",
            "|         5.0|        3.6|         1.4|        0.2| Setosa|       0.0|[5.0,3.6,1.4,0.2]|\n",
            "|         5.4|        3.9|         1.7|        0.4| Setosa|       0.0|[5.4,3.9,1.7,0.4]|\n",
            "|         4.6|        3.4|         1.4|        0.3| Setosa|       0.0|[4.6,3.4,1.4,0.3]|\n",
            "|         5.0|        3.4|         1.5|        0.2| Setosa|       0.0|[5.0,3.4,1.5,0.2]|\n",
            "|         4.4|        2.9|         1.4|        0.2| Setosa|       0.0|[4.4,2.9,1.4,0.2]|\n",
            "|         4.9|        3.1|         1.5|        0.1| Setosa|       0.0|[4.9,3.1,1.5,0.1]|\n",
            "|         5.4|        3.7|         1.5|        0.2| Setosa|       0.0|[5.4,3.7,1.5,0.2]|\n",
            "|         4.8|        3.4|         1.6|        0.2| Setosa|       0.0|[4.8,3.4,1.6,0.2]|\n",
            "|         4.8|        3.0|         1.4|        0.1| Setosa|       0.0|[4.8,3.0,1.4,0.1]|\n",
            "|         4.3|        3.0|         1.1|        0.1| Setosa|       0.0|[4.3,3.0,1.1,0.1]|\n",
            "|         5.8|        4.0|         1.2|        0.2| Setosa|       0.0|[5.8,4.0,1.2,0.2]|\n",
            "|         5.7|        4.4|         1.5|        0.4| Setosa|       0.0|[5.7,4.4,1.5,0.4]|\n",
            "|         5.4|        3.9|         1.3|        0.4| Setosa|       0.0|[5.4,3.9,1.3,0.4]|\n",
            "|         5.1|        3.5|         1.4|        0.3| Setosa|       0.0|[5.1,3.5,1.4,0.3]|\n",
            "|         5.7|        3.8|         1.7|        0.3| Setosa|       0.0|[5.7,3.8,1.7,0.3]|\n",
            "|         5.1|        3.8|         1.5|        0.3| Setosa|       0.0|[5.1,3.8,1.5,0.3]|\n",
            "+------------+-----------+------------+-----------+-------+----------+-----------------+\n",
            "only showing top 20 rows\n",
            "\n"
          ]
        }
      ]
    },
    {
      "cell_type": "markdown",
      "source": [
        "4.Разбить данные на train и test"
      ],
      "metadata": {
        "id": "dfZlfksxNRDf"
      }
    },
    {
      "cell_type": "code",
      "source": [
        "train, test = df_features.randomSplit([0.8, 0.2], seed=12345) # разделим датасет на обучающую (train) выборку и тестовую (test) в соотношениии 80/20\n",
        "train.show()\n",
        "test.show()"
      ],
      "metadata": {
        "colab": {
          "base_uri": "https://localhost:8080/"
        },
        "id": "vafs8HOxNYCt",
        "outputId": "f29177d1-aa41-4097-96b1-9ec8ba829456"
      },
      "execution_count": 15,
      "outputs": [
        {
          "output_type": "stream",
          "name": "stdout",
          "text": [
            "+------------+-----------+------------+-----------+----------+----------+-----------------+\n",
            "|sepal_length|sepal_width|petal_length|petal_width|   variety|varietyInd|         Features|\n",
            "+------------+-----------+------------+-----------+----------+----------+-----------------+\n",
            "|         4.3|        3.0|         1.1|        0.1|    Setosa|       0.0|[4.3,3.0,1.1,0.1]|\n",
            "|         4.4|        2.9|         1.4|        0.2|    Setosa|       0.0|[4.4,2.9,1.4,0.2]|\n",
            "|         4.4|        3.0|         1.3|        0.2|    Setosa|       0.0|[4.4,3.0,1.3,0.2]|\n",
            "|         4.4|        3.2|         1.3|        0.2|    Setosa|       0.0|[4.4,3.2,1.3,0.2]|\n",
            "|         4.5|        2.3|         1.3|        0.3|    Setosa|       0.0|[4.5,2.3,1.3,0.3]|\n",
            "|         4.6|        3.1|         1.5|        0.2|    Setosa|       0.0|[4.6,3.1,1.5,0.2]|\n",
            "|         4.6|        3.4|         1.4|        0.3|    Setosa|       0.0|[4.6,3.4,1.4,0.3]|\n",
            "|         4.6|        3.6|         1.0|        0.2|    Setosa|       0.0|[4.6,3.6,1.0,0.2]|\n",
            "|         4.7|        3.2|         1.3|        0.2|    Setosa|       0.0|[4.7,3.2,1.3,0.2]|\n",
            "|         4.7|        3.2|         1.6|        0.2|    Setosa|       0.0|[4.7,3.2,1.6,0.2]|\n",
            "|         4.8|        3.0|         1.4|        0.1|    Setosa|       0.0|[4.8,3.0,1.4,0.1]|\n",
            "|         4.8|        3.0|         1.4|        0.3|    Setosa|       0.0|[4.8,3.0,1.4,0.3]|\n",
            "|         4.8|        3.1|         1.6|        0.2|    Setosa|       0.0|[4.8,3.1,1.6,0.2]|\n",
            "|         4.8|        3.4|         1.6|        0.2|    Setosa|       0.0|[4.8,3.4,1.6,0.2]|\n",
            "|         4.8|        3.4|         1.9|        0.2|    Setosa|       0.0|[4.8,3.4,1.9,0.2]|\n",
            "|         4.9|        2.4|         3.3|        1.0|Versicolor|       1.0|[4.9,2.4,3.3,1.0]|\n",
            "|         4.9|        2.5|         4.5|        1.7| Virginica|       2.0|[4.9,2.5,4.5,1.7]|\n",
            "|         4.9|        3.0|         1.4|        0.2|    Setosa|       0.0|[4.9,3.0,1.4,0.2]|\n",
            "|         4.9|        3.1|         1.5|        0.1|    Setosa|       0.0|[4.9,3.1,1.5,0.1]|\n",
            "|         4.9|        3.1|         1.5|        0.2|    Setosa|       0.0|[4.9,3.1,1.5,0.2]|\n",
            "+------------+-----------+------------+-----------+----------+----------+-----------------+\n",
            "only showing top 20 rows\n",
            "\n",
            "+------------+-----------+------------+-----------+----------+----------+-----------------+\n",
            "|sepal_length|sepal_width|petal_length|petal_width|   variety|varietyInd|         Features|\n",
            "+------------+-----------+------------+-----------+----------+----------+-----------------+\n",
            "|         4.6|        3.2|         1.4|        0.2|    Setosa|       0.0|[4.6,3.2,1.4,0.2]|\n",
            "|         5.0|        3.0|         1.6|        0.2|    Setosa|       0.0|[5.0,3.0,1.6,0.2]|\n",
            "|         5.0|        3.2|         1.2|        0.2|    Setosa|       0.0|[5.0,3.2,1.2,0.2]|\n",
            "|         5.0|        3.5|         1.3|        0.3|    Setosa|       0.0|[5.0,3.5,1.3,0.3]|\n",
            "|         5.1|        3.5|         1.4|        0.3|    Setosa|       0.0|[5.1,3.5,1.4,0.3]|\n",
            "|         5.4|        3.4|         1.5|        0.4|    Setosa|       0.0|[5.4,3.4,1.5,0.4]|\n",
            "|         5.4|        3.9|         1.3|        0.4|    Setosa|       0.0|[5.4,3.9,1.3,0.4]|\n",
            "|         5.7|        2.8|         4.1|        1.3|Versicolor|       1.0|[5.7,2.8,4.1,1.3]|\n",
            "|         6.1|        2.9|         4.7|        1.4|Versicolor|       1.0|[6.1,2.9,4.7,1.4]|\n",
            "|         6.2|        2.2|         4.5|        1.5|Versicolor|       1.0|[6.2,2.2,4.5,1.5]|\n",
            "|         6.2|        3.4|         5.4|        2.3| Virginica|       2.0|[6.2,3.4,5.4,2.3]|\n",
            "|         6.4|        3.1|         5.5|        1.8| Virginica|       2.0|[6.4,3.1,5.5,1.8]|\n",
            "|         6.5|        3.0|         5.2|        2.0| Virginica|       2.0|[6.5,3.0,5.2,2.0]|\n",
            "|         6.5|        3.2|         5.1|        2.0| Virginica|       2.0|[6.5,3.2,5.1,2.0]|\n",
            "|         6.7|        2.5|         5.8|        1.8| Virginica|       2.0|[6.7,2.5,5.8,1.8]|\n",
            "|         6.7|        3.0|         5.2|        2.3| Virginica|       2.0|[6.7,3.0,5.2,2.3]|\n",
            "|         6.7|        3.1|         4.7|        1.5|Versicolor|       1.0|[6.7,3.1,4.7,1.5]|\n",
            "|         6.7|        3.3|         5.7|        2.5| Virginica|       2.0|[6.7,3.3,5.7,2.5]|\n",
            "|         6.9|        3.1|         4.9|        1.5|Versicolor|       1.0|[6.9,3.1,4.9,1.5]|\n",
            "|         6.9|        3.1|         5.4|        2.1| Virginica|       2.0|[6.9,3.1,5.4,2.1]|\n",
            "+------------+-----------+------------+-----------+----------+----------+-----------------+\n",
            "only showing top 20 rows\n",
            "\n"
          ]
        }
      ]
    },
    {
      "cell_type": "markdown",
      "source": [
        "5.Создать модель логистической регресии и обучить ее"
      ],
      "metadata": {
        "id": "_JpH9ZaBOrBI"
      }
    },
    {
      "cell_type": "code",
      "source": [
        "lr = LogisticRegression(featuresCol = 'Features', labelCol = 'varietyInd') # возьмем признаки для обучается и признак для классифиции\n",
        "lrModel = lr.fit(train)"
      ],
      "metadata": {
        "id": "FatVcB2ROsjH"
      },
      "execution_count": 16,
      "outputs": []
    },
    {
      "cell_type": "code",
      "source": [
        "# создадим предсказание через transform, которая принимает тестовую выборку, а также обучающую (как обучилась модель):\n",
        "train_res = lrModel.transform(train)\n",
        "test_res = lrModel.transform(test)\n",
        "train_res.show() # для обучающей выборки"
      ],
      "metadata": {
        "colab": {
          "base_uri": "https://localhost:8080/"
        },
        "id": "ivyX88DaP5aJ",
        "outputId": "de0804cc-e812-483b-9fb2-8afb7ac91ddf"
      },
      "execution_count": 17,
      "outputs": [
        {
          "output_type": "stream",
          "name": "stdout",
          "text": [
            "+------------+-----------+------------+-----------+----------+----------+-----------------+--------------------+--------------------+----------+\n",
            "|sepal_length|sepal_width|petal_length|petal_width|   variety|varietyInd|         Features|       rawPrediction|         probability|prediction|\n",
            "+------------+-----------+------------+-----------+----------+----------+-----------------+--------------------+--------------------+----------+\n",
            "|         4.3|        3.0|         1.1|        0.1|    Setosa|       0.0|[4.3,3.0,1.1,0.1]|[67.7027919587531...|[1.0,1.6424718354...|       0.0|\n",
            "|         4.4|        2.9|         1.4|        0.2|    Setosa|       0.0|[4.4,2.9,1.4,0.2]|[57.0087434717148...|[1.0,1.4036227809...|       0.0|\n",
            "|         4.4|        3.0|         1.3|        0.2|    Setosa|       0.0|[4.4,3.0,1.3,0.2]|[61.7475610236625...|[1.0,2.4772179810...|       0.0|\n",
            "|         4.4|        3.2|         1.3|        0.2|    Setosa|       0.0|[4.4,3.2,1.3,0.2]|[68.8060989728479...|[1.0,1.2455403381...|       0.0|\n",
            "|         4.5|        2.3|         1.3|        0.3|    Setosa|       0.0|[4.5,2.3,1.3,0.3]|[33.5065444211333...|[0.99999999999743...|       0.0|\n",
            "|         4.6|        3.1|         1.5|        0.2|    Setosa|       0.0|[4.6,3.1,1.5,0.2]|[61.0755416232729...|[1.0,5.0956843582...|       0.0|\n",
            "|         4.6|        3.4|         1.4|        0.3|    Setosa|       0.0|[4.6,3.4,1.4,0.3]|[70.2278589541617...|[1.0,9.9660365310...|       0.0|\n",
            "|         4.6|        3.6|         1.0|        0.2|    Setosa|       0.0|[4.6,3.6,1.0,0.2]|[84.7696293830116...|[1.0,8.7251237620...|       0.0|\n",
            "|         4.7|        3.2|         1.3|        0.2|    Setosa|       0.0|[4.7,3.2,1.3,0.2]|[66.1328121424396...|[1.0,9.4890152732...|       0.0|\n",
            "|         4.7|        3.2|         1.6|        0.2|    Setosa|       0.0|[4.7,3.2,1.6,0.2]|[62.5041664103744...|[1.0,6.1541780872...|       0.0|\n",
            "|         4.8|        3.0|         1.4|        0.1|    Setosa|       0.0|[4.8,3.0,1.4,0.1]|[59.6186681760073...|[1.0,1.4584305706...|       0.0|\n",
            "|         4.8|        3.0|         1.4|        0.3|    Setosa|       0.0|[4.8,3.0,1.4,0.3]|[54.3285918355187...|[1.0,7.0845275488...|       0.0|\n",
            "|         4.8|        3.1|         1.6|        0.2|    Setosa|       0.0|[4.8,3.1,1.6,0.2]|[58.0838018256456...|[1.0,3.6792648855...|       0.0|\n",
            "|         4.8|        3.4|         1.6|        0.2|    Setosa|       0.0|[4.8,3.4,1.6,0.2]|[68.6716087494237...|[1.0,1.3117510359...|       0.0|\n",
            "|         4.8|        3.4|         1.9|        0.2|    Setosa|       0.0|[4.8,3.4,1.9,0.2]|[65.0429630173585...|[1.0,8.5074681082...|       0.0|\n",
            "|         4.9|        2.4|         3.3|        1.0|Versicolor|       1.0|[4.9,2.4,3.3,1.0]|[-9.2348077836296...|[5.60296124082673...|       1.0|\n",
            "|         4.9|        2.5|         4.5|        1.7| Virginica|       2.0|[4.9,2.5,4.5,1.7]|[-38.735388929007...|[1.73753692383009...|       2.0|\n",
            "|         4.9|        3.0|         1.4|        0.2|    Setosa|       0.0|[4.9,3.0,1.4,0.2]|[56.0825343956269...|[1.0,1.3626556118...|       0.0|\n",
            "|         4.9|        3.1|         1.5|        0.1|    Setosa|       0.0|[4.9,3.1,1.5,0.1]|[61.0472929631089...|[1.0,1.7613809704...|       0.0|\n",
            "|         4.9|        3.1|         1.5|        0.2|    Setosa|       0.0|[4.9,3.1,1.5,0.2]|[58.4022547928645...|[1.0,3.8820923917...|       0.0|\n",
            "+------------+-----------+------------+-----------+----------+----------+-----------------+--------------------+--------------------+----------+\n",
            "only showing top 20 rows\n",
            "\n"
          ]
        }
      ]
    },
    {
      "cell_type": "code",
      "source": [
        "test_res.show() # для тестовой выборки"
      ],
      "metadata": {
        "colab": {
          "base_uri": "https://localhost:8080/"
        },
        "id": "LmHwDpERQo-2",
        "outputId": "4848c38b-6958-43ae-a993-aef396c9fb3f"
      },
      "execution_count": 18,
      "outputs": [
        {
          "output_type": "stream",
          "name": "stdout",
          "text": [
            "+------------+-----------+------------+-----------+----------+----------+-----------------+--------------------+--------------------+----------+\n",
            "|sepal_length|sepal_width|petal_length|petal_width|   variety|varietyInd|         Features|       rawPrediction|         probability|prediction|\n",
            "+------------+-----------+------------+-----------+----------+----------+-----------------+--------------------+--------------------+----------+\n",
            "|         4.6|        3.2|         1.4|        0.2|    Setosa|       0.0|[4.6,3.2,1.4,0.2]|[65.8143591752207...|[1.0,8.9932431201...|       0.0|\n",
            "|         5.0|        3.0|         1.6|        0.2|    Setosa|       0.0|[5.0,3.0,1.6,0.2]|[52.7723416307807...|[1.0,9.3248066295...|       0.0|\n",
            "|         5.0|        3.2|         1.2|        0.2|    Setosa|       0.0|[5.0,3.2,1.2,0.2]|[64.6690738893863...|[1.0,1.7992914773...|       0.0|\n",
            "|         5.0|        3.5|         1.3|        0.3|    Setosa|       0.0|[5.0,3.5,1.3,0.3]|[71.4022940655650...|[1.0,5.6805112138...|       0.0|\n",
            "|         5.1|        3.5|         1.4|        0.3|    Setosa|       0.0|[5.1,3.5,1.4,0.3]|[69.3016498780739...|[1.0,9.6751604427...|       0.0|\n",
            "|         5.4|        3.4|         1.5|        0.4|    Setosa|       0.0|[5.4,3.4,1.5,0.4]|[59.2445073254735...|[1.0,9.2049254554...|       0.0|\n",
            "|         5.4|        3.9|         1.3|        0.4|    Setosa|       0.0|[5.4,3.9,1.3,0.4]|[79.3099493531470...|[1.0,1.0222056261...|       0.0|\n",
            "|         5.7|        2.8|         4.1|        1.3|Versicolor|       1.0|[5.7,2.8,4.1,1.3]|[-19.857999895921...|[2.92296739402976...|       1.0|\n",
            "|         6.1|        2.9|         4.7|        1.4|Versicolor|       1.0|[6.1,2.9,4.7,1.4]|[-29.795442996247...|[1.37507021891532...|       1.0|\n",
            "|         6.2|        2.2|         4.5|        1.5|Versicolor|       1.0|[6.2,2.2,4.5,1.5]|[-55.617362444066...|[1.89148902308776...|       1.0|\n",
            "|         6.2|        3.4|         5.4|        2.3| Virginica|       2.0|[6.2,3.4,5.4,2.3]|[-45.312377307104...|[1.05183032133338...|       2.0|\n",
            "|         6.4|        3.1|         5.5|        1.8| Virginica|       2.0|[6.4,3.1,5.5,1.8]|[-45.666733177288...|[1.40585868757656...|       2.0|\n",
            "|         6.5|        3.0|         5.2|        2.0| Virginica|       2.0|[6.5,3.0,5.2,2.0]|[-51.748528370440...|[7.53728472914469...|       2.0|\n",
            "|         6.5|        3.2|         5.1|        2.0| Virginica|       2.0|[6.5,3.2,5.1,2.0]|[-43.480441843900...|[5.51578248731895...|       2.0|\n",
            "|         6.7|        2.5|         5.8|        1.8| Virginica|       2.0|[6.7,2.5,5.8,1.8]|[-73.144279587317...|[8.71478137458529...|       2.0|\n",
            "|         6.7|        3.0|         5.2|        2.3| Virginica|       2.0|[6.7,3.0,5.2,2.3]|[-61.465834101445...|[3.17365707702393...|       2.0|\n",
            "|         6.7|        3.1|         4.7|        1.5|Versicolor|       1.0|[6.7,3.1,4.7,1.5]|[-30.728516878123...|[2.13953602238392...|       1.0|\n",
            "|         6.7|        3.3|         5.7|        2.5| Virginica|       2.0|[6.7,3.3,5.7,2.5]|[-62.215846404931...|[6.06480734858109...|       2.0|\n",
            "|         6.9|        3.1|         4.9|        1.5|Versicolor|       1.0|[6.9,3.1,4.9,1.5]|[-34.929805253105...|[7.36597936086620...|       1.0|\n",
            "|         6.9|        3.1|         5.4|        2.1| Virginica|       2.0|[6.9,3.1,5.4,2.1]|[-56.847777161346...|[1.39659261185467...|       2.0|\n",
            "+------------+-----------+------------+-----------+----------+----------+-----------------+--------------------+--------------------+----------+\n",
            "only showing top 20 rows\n",
            "\n"
          ]
        }
      ]
    },
    {
      "cell_type": "markdown",
      "source": [
        "6.Воспользоваться MulticlassClassificationEvaluator для оценки качества на train и test множестве"
      ],
      "metadata": {
        "id": "y-616yquRGh0"
      }
    },
    {
      "cell_type": "code",
      "source": [
        "ev = MulticlassClassificationEvaluator(labelCol='varietyInd') # MulticlassClassification применяем для более чем 2х признаков опираясь на varietyInd\n",
        "print('Точность предсказания на обучающей выборке:', ev.evaluate(train_res)*100, '%') # проверим эффективность модели для обучающей выборки"
      ],
      "metadata": {
        "colab": {
          "base_uri": "https://localhost:8080/"
        },
        "id": "W-9_lfyYRKSV",
        "outputId": "482bce2a-bd77-42d7-8883-2b09fa6f57d0"
      },
      "execution_count": 20,
      "outputs": [
        {
          "output_type": "stream",
          "name": "stdout",
          "text": [
            "Точность предсказания на обучающей выборке: 98.44961240310077 %\n"
          ]
        }
      ]
    },
    {
      "cell_type": "code",
      "source": [
        "print('Точность предсказания на тестовой выборке:', ev.evaluate(test_res)*100, '%') # теперь проверим эффективность для тестовой выборки"
      ],
      "metadata": {
        "colab": {
          "base_uri": "https://localhost:8080/"
        },
        "id": "ri_lqOkoSXUg",
        "outputId": "caf3c33e-dec1-4b16-e398-83a6f75772bf"
      },
      "execution_count": 21,
      "outputs": [
        {
          "output_type": "stream",
          "name": "stdout",
          "text": [
            "Точность предсказания на тестовой выборке: 100.0 %\n"
          ]
        }
      ]
    },
    {
      "cell_type": "markdown",
      "source": [
        "Вывод: 100 процентный результат для тестовой выборки показывает, что модель работает идеально."
      ],
      "metadata": {
        "id": "uasVQCgbSmX0"
      }
    }
  ]
}